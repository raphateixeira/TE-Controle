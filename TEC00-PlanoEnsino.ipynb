{
    "cells": [
        {
            "cell_type": "markdown",
            "metadata": {
                "slideshow": {
                    "slide_type": "slide"
                }
            },
            "source": [
                "### **Tópicos Especiais em Sistemas de Controle**\n",
                "#### Prof. Dr. Raphael Teixeira  \n",
                "##### UFPA - CAMTUC - FEE\n",
                "\n",
                "- Controle de sistemas dinâmicos;  \n",
                "- Técnicas de aprendizagem de máquina aplicadas ao controle;\n",
                "- Simulação e implementação em MATLAB/Python;\n",
                "\n",
                "📌 **Objetivo:** Explorar métodos de inteligência artificial em controle de sistemas dinâmicos.\n",
                "\n",
                "📌 **Formato:** Aulas teóricas e implementação computacional. \n"
            ]
        },
        {
            "cell_type": "markdown",
            "metadata": {
                "slideshow": {
                    "slide_type": "slide"
                }
            },
            "source": [
                "## 1. Introdução\n",
                "- Modelagem baseada em leis físicas;\n",
                "- Representações de modelos dinâmicos;\n",
                "    - Equações diferenciais;\n",
                "    - Função de transferência;\n",
                "    - Modelos de estado;"
            ]
        },
        {
            "cell_type": "markdown",
            "metadata": {
                "slideshow": {
                    "slide_type": "slide"
                }
            },
            "source": [
                "## 2. Identificação de sistemas:\n",
                "- Modelagem guiada por dados;\n",
                "- Modelo ARX;\n",
                "- Algoritmo de mínimos quadrados;\n",
                "- Exemplo: Identificação do massa mola amortecedor."
            ]
        }
    ],
    "metadata": {
        "celltoolbar": "Slideshow",
        "kernelspec": {
            "display_name": "Python 3",
            "language": "python",
            "name": "python3"
        },
        "language_info": {
            "codemirror_mode": {
                "name": "ipython",
                "version": 3
            },
            "file_extension": ".py",
            "mimetype": "text/x-python",
            "name": "python",
            "nbconvert_exporter": "python",
            "pygments_lexer": "ipython3",
            "version": "3.8.5"
        }
    },
    "nbformat": 4,
    "nbformat_minor": 4
}
