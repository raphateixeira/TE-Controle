{
    "cells": [
        {
            "cell_type": "markdown",
            "metadata": {
                "slideshow": {
                    "slide_type": "slide"
                }
            },
            "source": [
                "\n",
                "## **Tópicos Especiais em Sistemas de Controle**\n",
                "### Prof. Dr. Raphael Teixeira  \n",
                "#### UFPA - CAMTUC - FEE\n",
                "\n",
                "- Controle de sistemas dinâmicos avançado  \n",
                "- Técnicas modernas de aprendizado de máquina aplicadas ao controle  \n",
                "- Simulação e implementação em MATLAB/Python  \n",
                "\n",
                "📌 **Objetivo:** Explorar métodos inovadores para controle de sistemas complexos.  \n",
                "📌 **Formato:** Aulas teóricas e práticas com estudos de caso.  "
            ]
        },
        {
            "cell_type": "markdown",
            "metadata": {
                "slideshow": {
                    "slide_type": "slide"
                }
            },
            "source": [
                "## Variáveis e Tipos de Dados\n",
                "\n",
                "Python possui diversos tipos de dados, como inteiros, floats, strings e listas."
            ]
        },
        {
            "cell_type": "code",
            "execution_count": null,
            "metadata": {
                "slideshow": {
                    "slide_type": "fragment"
                }
            },
            "outputs": [],
            "source": [
                "# Exemplo de variáveis\n",
                "nome = 'Raphael'\n",
                "idade = 35\n",
                "altura = 1.75\n",
                "print(f'Nome: {nome}, Idade: {idade}, Altura: {altura}')"
            ]
        },
        {
            "cell_type": "markdown",
            "metadata": {
                "slideshow": {
                    "slide_type": "slide"
                }
            },
            "source": [
                "## Estruturas de Controle\n",
                "\n",
                "Podemos usar estruturas de controle como if-else e loops para manipular o fluxo de execução do código."
            ]
        },
        {
            "cell_type": "code",
            "execution_count": null,
            "metadata": {
                "slideshow": {
                    "slide_type": "fragment"
                }
            },
            "outputs": [],
            "source": [
                "# Exemplo de estrutura de controle\n",
                "numero = 10\n",
                "if numero % 2 == 0:\n",
                "    print('O número é par')\n",
                "else:\n",
                "    print('O número é ímpar')"
            ]
        },
        {
            "cell_type": "markdown",
            "metadata": {
                "slideshow": {
                    "slide_type": "slide"
                }
            },
            "source": [
                "## Funções em Python\n",
                "\n",
                "As funções permitem reutilizar código e estruturar melhor os programas."
            ]
        },
        {
            "cell_type": "code",
            "execution_count": null,
            "metadata": {
                "slideshow": {
                    "slide_type": "fragment"
                }
            },
            "outputs": [],
            "source": [
                "# Definição de uma função\n",
                "def saudacao(nome):\n",
                "    return f'Olá, {nome}!'\n",
                "\n",
                "print(saudacao('Raphael'))"
            ]
        },
        {
            "cell_type": "markdown",
            "metadata": {
                "slideshow": {
                    "slide_type": "slide"
                }
            },
            "source": [
                "# Conclusão\n",
                "\n",
                "Python é uma linguagem versátil e acessível, ideal para iniciantes e para desenvolvimento avançado.\n",
                "\n",
                "Agora você já conhece os conceitos básicos!"
            ]
        }
    ],
    "metadata": {
        "celltoolbar": "Slideshow",
        "kernelspec": {
            "display_name": "Python 3",
            "language": "python",
            "name": "python3"
        },
        "language_info": {
            "codemirror_mode": {
                "name": "ipython",
                "version": 3
            },
            "file_extension": ".py",
            "mimetype": "text/x-python",
            "name": "python",
            "nbconvert_exporter": "python",
            "pygments_lexer": "ipython3",
            "version": "3.8.5"
        }
    },
    "nbformat": 4,
    "nbformat_minor": 4
}
