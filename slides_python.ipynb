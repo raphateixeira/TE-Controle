{
    "cells": [
        {
            "cell_type": "markdown",
            "metadata": {
                "slideshow": {
                    "slide_type": "slide"
                }
            },
            "source": [
                "# Introdu\u00e7\u00e3o ao Python\n",
                "\n",
                "Python \u00e9 uma linguagem de programa\u00e7\u00e3o poderosa e f\u00e1cil de aprender. Vamos explorar alguns conceitos b\u00e1sicos."
            ]
        },
        {
            "cell_type": "markdown",
            "metadata": {
                "slideshow": {
                    "slide_type": "slide"
                }
            },
            "source": [
                "## Vari\u00e1veis e Tipos de Dados\n",
                "\n",
                "Python possui diversos tipos de dados, como inteiros, floats, strings e listas."
            ]
        },
        {
            "cell_type": "code",
            "execution_count": null,
            "metadata": {
                "slideshow": {
                    "slide_type": "fragment"
                }
            },
            "outputs": [],
            "source": [
                "# Exemplo de vari\u00e1veis\n",
                "nome = 'Raphael'\n",
                "idade = 35\n",
                "altura = 1.75\n",
                "print(f'Nome: {nome}, Idade: {idade}, Altura: {altura}')"
            ]
        },
        {
            "cell_type": "markdown",
            "metadata": {
                "slideshow": {
                    "slide_type": "slide"
                }
            },
            "source": [
                "## Estruturas de Controle\n",
                "\n",
                "Podemos usar estruturas de controle como if-else e loops para manipular o fluxo de execu\u00e7\u00e3o do c\u00f3digo."
            ]
        },
        {
            "cell_type": "code",
            "execution_count": null,
            "metadata": {
                "slideshow": {
                    "slide_type": "fragment"
                }
            },
            "outputs": [],
            "source": [
                "# Exemplo de estrutura de controle\n",
                "numero = 10\n",
                "if numero % 2 == 0:\n",
                "    print('O n\u00famero \u00e9 par')\n",
                "else:\n",
                "    print('O n\u00famero \u00e9 \u00edmpar')"
            ]
        },
        {
            "cell_type": "markdown",
            "metadata": {
                "slideshow": {
                    "slide_type": "slide"
                }
            },
            "source": [
                "## Fun\u00e7\u00f5es em Python\n",
                "\n",
                "As fun\u00e7\u00f5es permitem reutilizar c\u00f3digo e estruturar melhor os programas."
            ]
        },
        {
            "cell_type": "code",
            "execution_count": null,
            "metadata": {
                "slideshow": {
                    "slide_type": "fragment"
                }
            },
            "outputs": [],
            "source": [
                "# Defini\u00e7\u00e3o de uma fun\u00e7\u00e3o\n",
                "def saudacao(nome):\n",
                "    return f'Ol\u00e1, {nome}!'\n",
                "\n",
                "print(saudacao('Raphael'))"
            ]
        },
        {
            "cell_type": "markdown",
            "metadata": {
                "slideshow": {
                    "slide_type": "slide"
                }
            },
            "source": [
                "# Conclus\u00e3o\n",
                "\n",
                "Python \u00e9 uma linguagem vers\u00e1til e acess\u00edvel, ideal para iniciantes e para desenvolvimento avan\u00e7ado.\n",
                "\n",
                "Agora voc\u00ea j\u00e1 conhece os conceitos b\u00e1sicos!"
            ]
        }
    ],
    "metadata": {
        "celltoolbar": "Slideshow",
        "kernelspec": {
            "display_name": "Python 3",
            "language": "python",
            "name": "python3"
        },
        "language_info": {
            "codemirror_mode": {
                "name": "ipython",
                "version": 3
            },
            "file_extension": ".py",
            "mimetype": "text/x-python",
            "name": "python",
            "nbconvert_exporter": "python",
            "pygments_lexer": "ipython3",
            "version": "3.8.5"
        }
    },
    "nbformat": 4,
    "nbformat_minor": 4
}