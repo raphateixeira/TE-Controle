{
 "cells": [
  {
   "cell_type": "markdown",
   "metadata": {
    "slideshow": {
     "slide_type": "slide"
    }
   },
   "source": [
    "### **Tópicos Especiais em Sistemas de Controle**\n",
    "#### Prof. Dr. Raphael Teixeira  \n",
    "##### UFPA - CAMTUC - FEE\n",
    "\n",
    "Uma Introdução às Representações Fundamentais\n"
   ]
  },
  {
   "cell_type": "markdown",
   "metadata": {
    "slideshow": {
     "slide_type": "slide"
    }
   },
   "source": [
    "## O que são Sistemas Dinâmicos?\n",
    "\n",
    "* Sistemas cujo estado **evolui ao longo do tempo**.\n",
    "* Frequentemente descritos por como suas variáveis mudam (derivadas, diferenças).\n",
    "* **Entrada (Input):** Estímulo ou controle aplicado ao sistema (e.g., força, tensão, comando).\n",
    "* **Saída (Output):** Resposta ou comportamento observado do sistema (e.g., posição, corrente, velocidade).\n",
    "* **Estado:** Um conjunto mínimo de variáveis que descreve completamente a condição do sistema em qualquer instante de tempo.\n",
    "\n",
    "**Exemplos:** Circuitos elétricos, sistemas mecânicos (massa-mola), processos químicos, sistemas biológicos, modelos econômicos."
   ]
  },
  {
   "cell_type": "markdown",
   "metadata": {
    "slideshow": {
     "slide_type": "slide"
    }
   },
   "source": [
    "## Roteiro\n",
    "\n",
    "1.  **Equações Diferenciais:** A linguagem fundamental.\n",
    "2.  **Resposta ao Impulso:** A \"impressão digital\" do sistema.\n",
    "3.  **Funções de Transferência:** Visão no domínio da frequência/Laplace.\n",
    "4.  **Modelo de Espaço de Estados:** Representação matricial moderna."
   ]
  },
  {
   "cell_type": "markdown",
   "metadata": {
    "slideshow": {
     "slide_type": "slide"
    }
   },
   "source": [
    "## 1. Equações Diferenciais Ordinárias (EDOs)\n",
    "\n",
    "* **Descrição:** Relacionam a saída `y(t)` e suas derivadas com a entrada `u(t)` e suas derivadas.\n",
    "* **Base:** Leis físicas fundamentais (Leis de Newton, Leis de Kirchhoff, etc.).\n",
    "* **Forma Geral (Linear Invariante no Tempo - LTI):**\n",
    "    $$\n",
    "    a_n \\frac{d^n y}{dt^n} + a_{n-1} \\frac{d^{n-1} y}{dt^{n-1}} + \\dots + a_1 \\frac{dy}{dt} + a_0 y(t) = b_m \\frac{d^m u}{dt^m} + \\dots + b_1 \\frac{du}{dt} + b_0 u(t)\n",
    "    $$\n",
    "* **Ordem do Sistema:** A maior derivada da saída (`n`)."
   ]
  },
  {
   "cell_type": "markdown",
   "metadata": {
    "slideshow": {
     "slide_type": "sub-slide"
    }
   },
   "source": [
    "### Exemplo: Sistema Massa-Mola-Amortecedor\n",
    "\n",
    "* **Variáveis:**\n",
    "    * $y(t)$: Posição da massa\n",
    "    * $u(t)$: Força aplicada (entrada $u(t)$)\n",
    "* **Lei de Newton (ΣF = ma):**\n",
    "    $$u(t) - f_{k} - f_{b} = m \\ddot{y}(t)$$\n",
    "    Onde $f_k = k y(t)$ e $f_b = c \\dot{y}(t)$.\n",
    "* **Equação Diferencial:**\n",
    "    \n",
    "    $$m \\ddot{y}(t) + c \\dot{y}(t) + k y(t) = F(t)$$\n",
    "    \n",
    "    (Sistema de 2ª ordem)"
   ]
  },
  {
   "cell_type": "markdown",
   "metadata": {
    "slideshow": {
     "slide_type": "sub-slide"
    }
   },
   "source": [
    "### Exemplo: Circuito RC Série\n",
    "\n",
    "* **Variáveis:**\n",
    "    * `v_C(t)`: Tensão no capacitor (saída `y(t)`)\n",
    "    * `v_S(t)`: Tensão da fonte (entrada `u(t)`)\n",
    "* **Lei de Kirchhoff das Tensões (LKT):**\n",
    "    ```latex\n",
    "    v_S(t) = v_R(t) + v_C(t)\n",
    "    ```\n",
    "    Onde `v_R(t) = R i(t)` e `i(t) = C \\frac{dv_C}{dt}`.\n",
    "* **Equação Diferencial:**\n",
    "    ```latex\n",
    "    RC \\frac{dv_C(t)}{dt} + v_C(t) = v_S(t)\n",
    "    ```\n",
    "    (Sistema de 1ª ordem)"
   ]
  },
  {
   "cell_type": "code",
   "execution_count": null,
   "metadata": {
    "slideshow": {
     "slide_type": "fragment"
    }
   },
   "outputs": [],
   "source": [
    "# Exemplo Opcional: Simulação de um sistema de 1a ordem\n",
    "# import numpy as np\n",
    "# from scipy.integrate import odeint\n",
    "# import matplotlib.pyplot as plt\n",
    "\n",
    "# def sistema_rc(vc, t, R, C, vs_func):\n",
    "#     vs = vs_func(t)\n",
    "#     dvcdt = (vs - vc) / (R * C)\n",
    "#     return dvcdt\n",
    "\n",
    "# # Parâmetros\n",
    "# R = 1000  # Ohms\n",
    "# C = 1e-6  # Farads\n",
    "# vc0 = 0   # Condição inicial\n",
    "\n",
    "# # Tempo\n",
    "# t = np.linspace(0, 5 * R * C, 500) # Simula por 5 constantes de tempo\n",
    "\n",
    "# # Entrada: Degrau unitário em t=0\n",
    "# def vs_degrau(t):\n",
    "#     return 1.0 if t >= 0 else 0.0\n",
    "# vs_func = np.vectorize(vs_degrau)\n",
    "\n",
    "# # Solução\n",
    "# sol = odeint(sistema_rc, vc0, t, args=(R, C, vs_func))\n",
    "\n",
    "# # Plot\n",
    "# plt.plot(t, sol, label='v_C(t)')\n",
    "# plt.plot(t, vs_func(t), '--', label='v_S(t) (Entrada)')\n",
    "# plt.xlabel('Tempo (s)')\n",
    "# plt.ylabel('Tensão (V)')\n",
    "# plt.title('Resposta ao Degrau - Circuito RC')\n",
    "# plt.legend()\n",
    "# plt.grid(True)\n",
    "# plt.show()"
   ]
  },
  {
   "cell_type": "markdown",
   "metadata": {
    "slideshow": {
     "slide_type": "slide"
    }
   },
   "source": [
    "## 2. Resposta ao Impulso `h(t)`\n",
    "\n",
    "* **Definição:** A saída `y(t)` do sistema quando a entrada é um **impulso Dirac** `δ(t)` e as **condições iniciais são nulas**.\n",
    "    ```latex\n",
    "    u(t) = \\delta(t) \\quad \\implies \\quad y(t) = h(t) \\quad \\text{(com C.I. nulas)}\n",
    "    ```\n",
    "* **Impulso Dirac `δ(t)`:** Uma função \"idealizada\" com área unitária concentrada em `t=0`. Pense nela como um pulso muito curto e muito alto.\n",
    "* **Significado:** `h(t)` captura a dinâmica intrínseca do sistema, como ele reage naturalmente a uma perturbação instantânea."
   ]
  },
  {
   "cell_type": "markdown",
   "metadata": {
    "slideshow": {
     "slide_type": "sub-slide"
    }
   },
   "source": [
    "### A Importância da Resposta ao Impulso\n",
    "\n",
    "* **Caracterização Completa (Sistemas LTI):** Para sistemas Lineares e Invariantes no Tempo (LTI), a resposta ao impulso `h(t)` contém *toda* a informação sobre a dinâmica do sistema.\n",
    "* **Convolução:** A saída `y(t)` para *qualquer* entrada `u(t)` pode ser calculada pela integral de convolução:\n",
    "    ```latex\n",
    "    y(t) = u(t) * h(t) = \\int_{-\\infty}^{\\infty} u(\\tau) h(t - \\tau) d\\tau\n",
    "    ```\n",
    "    Isso significa: se conhecemos `h(t)`, podemos prever a resposta para qualquer entrada!\n",
    "* **Causalidade:** Para sistemas físicos, `h(t) = 0` para `t < 0` (a saída não pode anteceder a entrada)."
   ]
  },
  {
   "cell_type": "code",
   "execution_count": null,
   "metadata": {
    "slideshow": {
     "slide_type": "fragment"
    }
   },
   "outputs": [],
   "source": [
    "# Exemplo Opcional: Calcular h(t) para o sistema RC\n",
    "# from scipy.signal import impulse\n",
    "# import matplotlib.pyplot as plt\n",
    "# import numpy as np\n",
    "\n",
    "# Sistema RC: RC * y' + y = u\n",
    "# Reescrevendo: y' + (1/RC)*y = (1/RC)*u\n",
    "# Coeficientes do denominador: [1, 1/(RC)]\n",
    "# Coeficientes do numerador: [1/(RC)]\n",
    "\n",
    "# R = 1000; C = 1e-6\n",
    "# RC = R * C\n",
    "# num = [1/RC]\n",
    "# den = [1, 1/RC]\n",
    "\n",
    "# system = (num, den)\n",
    "# t, h = impulse(system)\n",
    "\n",
    "# plt.plot(t, h)\n",
    "# plt.title('Resposta ao Impulso h(t) - Circuito RC')\n",
    "# plt.xlabel('Tempo (s)')\n",
    "# plt.ylabel('Amplitude (1/s)') # Unidade depende da definição exata\n",
    "# plt.grid(True)\n",
    "# plt.show()\n",
    "\n",
    "# print(f\"Teoricamente, h(t) = (1/RC) * exp(-t/RC) para t>=0. Valor em t=0: {1/RC:.2f}\")"
   ]
  },
  {
   "cell_type": "markdown",
   "metadata": {
    "slideshow": {
     "slide_type": "slide"
    }
   },
   "source": [
    "## 3. Função de Transferência `H(s)`\n",
    "\n",
    "* **Domínio:** Transformada de Laplace (`s`). Converte EDOs em equações algébricas.\n",
    "* **Definição 1:** É a Transformada de Laplace da resposta ao impulso `h(t)`.\n",
    "    ```latex\n",
    "    H(s) = \\mathcal{L}\\{h(t)\\} = \\int_{0}^{\\infty} h(t) e^{-st} dt\n",
    "    ```\n",
    "* **Definição 2:** É a razão entre a Transformada de Laplace da saída `Y(s)` e a Transformada de Laplace da entrada `U(s)`, assumindo **condições iniciais nulas**.\n",
    "    ```latex\n",
    "    H(s) = \\frac{Y(s)}{U(s)} \\quad \\text{(com C.I. nulas)}\n",
    "    ```\n",
    "* **Conexão:** A convolução no tempo `y(t) = h(t) * u(t)` se torna uma multiplicação no domínio de Laplace `Y(s) = H(s) U(s)`."
   ]
  },
  {
   "cell_type": "markdown",
   "metadata": {
    "slideshow": {
     "slide_type": "sub-slide"
    }
   },
   "source": [
    "### Obtendo `H(s)` a partir da EDO\n",
    "\n",
    "1.  Pegue a EDO do sistema (LTI).\n",
    "2.  Aplique a Transformada de Laplace em ambos os lados.\n",
    "3.  Use a propriedade da derivada: `L{d^k y / dt^k} = s^k Y(s)` (assumindo C.I. nulas).\n",
    "4.  Isole a razão `Y(s) / U(s)`. O resultado é `H(s)`.\n",
    "\n",
    "**Exemplo (Sistema Massa-Mola-Amortecedor):**\n",
    "`m y'' + c y' + k y = u`\n",
    "Aplicando Laplace:\n",
    "`m s^2 Y(s) + c s Y(s) + k Y(s) = U(s)`\n",
    "`(m s^2 + c s + k) Y(s) = U(s)`\n",
    "```latex\n",
    "H(s) = \\frac{Y(s)}{U(s)} = \\frac{1}{m s^2 + c s + k}\n",
    "```"
   ]
  },
  {
   "cell_type": "markdown",
   "metadata": {
    "slideshow": {
     "slide_type": "sub-slide"
    }
   },
   "source": [
    "### Polos e Zeros\n",
    "\n",
    "`H(s)` é geralmente uma função racional:\n",
    "```latex\n",
    "H(s) = K \\frac{(s - z_1)(s - z_2)...(s - z_m)}{(s - p_1)(s - p_2)...(s - p_n)}\n",
    "```\n",
    "* **Zeros (`z_i`):** Raízes do numerador. Frequências (complexas) onde a resposta do sistema é zero.\n",
    "* **Polos (`p_i`):** Raízes do denominador. Frequências (complexas) onde a \"energia\" do sistema pode crescer indefinidamente.\n",
    "\n",
    "**Importância dos Polos:**\n",
    "* Determinam a **estabilidade** do sistema:\n",
    "    * Sistema estável: Todos os polos têm parte real negativa (estão no semiplano esquerdo do plano complexo).\n",
    "    * Sistema instável: Pelo menos um polo tem parte real positiva.\n",
    "    * Sistema marginalmente estável: Polos no eixo imaginário (parte real zero), sem repetição.\n",
    "* Influenciam a forma da resposta temporal (oscilações, decaimento)."
   ]
  },
  {
   "cell_type": "code",
   "execution_count": null,
   "metadata": {
    "slideshow": {
     "slide_type": "fragment"
    }
   },
   "outputs": [],
   "source": [
    "# Exemplo Opcional: Usar a biblioteca 'control' ou 'scipy.signal'\n",
    "# from scipy.signal import TransferFunction\n",
    "# import matplotlib.pyplot as plt\n",
    "# import numpy as np\n",
    "\n",
    "# # Sistema Massa-Mola-Amortecedor (m=1, c=0.5, k=1)\n",
    "# m = 1\n",
    "# c = 0.5\n",
    "# k = 1\n",
    "# num = [1]\n",
    "# den = [m, c, k]\n",
    "# H = TransferFunction(num, den)\n",
    "\n",
    "# print(f\"Função de Transferência:\\n{H}\")\n",
    "# print(f\"Polos: {H.poles}\")\n",
    "# print(f\"Zeros: {H.zeros}\")\n",
    "\n",
    "# # Plot Polos e Zeros (requer 'control' ou plot manual)\n",
    "# try:\n",
    "#    from control.matlab import pzmap\n",
    "#    pzmap(H, plot=True, grid=True)\n",
    "#    plt.title('Diagrama de Polos e Zeros')\n",
    "# except ImportError:\n",
    "#    print(\"\\nInstale a biblioteca 'control' para plotar pzmap: pip install control\")\n",
    "#    # Plot manual simples\n",
    "#    plt.figure()\n",
    "#    plt.scatter(np.real(H.poles), np.imag(H.poles), marker='x', color='red', s=100, label='Polos')\n",
    "#    if H.zeros.size > 0:\n",
    "#       plt.scatter(np.real(H.zeros), np.imag(H.zeros), marker='o', color='blue', s=100, facecolors='none', label='Zeros')\n",
    "#    plt.axhline(0, color='black', lw=0.5)\n",
    "#    plt.axvline(0, color='black', lw=0.5)\n",
    "#    plt.grid(True)\n",
    "#    plt.xlabel('Real')\n",
    "#    plt.ylabel('Imaginário')\n",
    "#    plt.title('Diagrama de Polos e Zeros (Manual)')\n",
    "#    plt.legend()\n",
    "#    plt.axis('equal') # Garante aspecto correto\n",
    "#    plt.show()\n"
   ]
  },
  {
   "cell_type": "markdown",
   "metadata": {
    "slideshow": {
     "slide_type": "slide"
    }
   },
   "source": [
    "## 4. Modelo de Espaço de Estados\n",
    "\n",
    "* **Alternativa às EDOs de alta ordem e Funções de Transferência.**\n",
    "* Baseado em um conjunto de **Equações Diferenciais de 1ª Ordem**.\n",
    "* Particularmente útil para:\n",
    "    * Sistemas **MIMO** (Múltiplas Entradas, Múltiplas Saídas).\n",
    "    * Análise de propriedades internas do sistema (não apenas a relação entrada-saída).\n",
    "    * Projeto de controle moderno (observadores de estado, controle ótimo, etc.).\n",
    "    * Simulação computacional."
   ]
  },
  {
   "cell_type": "markdown",
   "metadata": {
    "slideshow": {
     "slide_type": "sub-slide"
    }
   },
   "source": [
    "### Definição\n",
    "\n",
    "Um sistema LTI é descrito por duas equações matriciais:\n",
    "\n",
    "**1. Equação de Estado:** Descreve a evolução das variáveis de estado `x(t)`.\n",
    "```latex\n",
    "\\dot{\\mathbf{x}}(t) = \\mathbf{A} \\mathbf{x}(t) + \\mathbf{B} \\mathbf{u}(t)\n",
    "```\n",
    "\n",
    "**2. Equação de Saída:** Relaciona a saída `y(t)` com os estados e a entrada.\n",
    "```latex\n",
    "\\mathbf{y}(t) = \\mathbf{C} \\mathbf{x}(t) + \\mathbf{D} \\mathbf{u}(t)\n",
    "```\n",
    "\n",
    "* `x(t)`: Vetor de estado (n x 1)\n",
    "* `u(t)`: Vetor de entrada (p x 1)\n",
    "* `y(t)`: Vetor de saída (q x 1)\n",
    "* `A`: Matriz de estado (n x n)\n",
    "* `B`: Matriz de entrada (n x p)\n",
    "* `C`: Matriz de saída (q x n)\n",
    "* `D`: Matriz de alimentação direta (q p)"
   ]
  },
  {
   "cell_type": "markdown",
   "metadata": {
    "slideshow": {
     "slide_type": "sub-slide"
    }
   },
   "source": [
    "### Variáveis de Estado\n",
    "\n",
    "* **O que são?** Um conjunto mínimo de variáveis cuja conhecimento em `t=t_0`, junto com a entrada `u(t)` para `t ≥ t_0`, determina unicamente o comportamento do sistema para `t ≥ t_0`.\n",
    "* **Escolha:** Não é única! Diferentes escolhas levam a diferentes matrizes (A, B, C, D), mas descrevem o mesmo sistema.\n",
    "* **Exemplo Comum:** Para EDOs de ordem `n`, as variáveis de estado podem ser escolhidas como a saída e suas primeiras `n-1` derivadas:\n",
    "    `x_1 = y`, `x_2 = dy/dt`, ..., `x_n = d^(n-1)y / dt^(n-1)` (Forma Canônica de Controlabilidade ou Observabilidade são outras escolhas comuns)."
   ]
  },
  {
   "cell_type": "markdown",
   "metadata": {
    "slideshow": {
     "slide_type": "sub-slide"
    }
   },
   "source": [
    "### Relação com a Função de Transferência\n",
    "\n",
    "É possível converter entre as representações (assumindo SISO e C.I. nulas):\n",
    "\n",
    "* **Espaço de Estados -> Função de Transferência:**\n",
    "    ```latex\n",
    "    H(s) = \\mathbf{C} (s\\mathbf{I} - \\mathbf{A})^{-1} \\mathbf{B} + \\mathbf{D}\n",
    "    ```\n",
    "    Onde `I` é a matriz identidade.\n",
    "\n",
    "* **Função de Transferência -> Espaço de Estados:**\n",
    "    * Existem várias \"realizações\" ou formas canônicas (controlável, observável, diagonal) que resultam em diferentes matrizes A, B, C, D para a mesma H(s).\n",
    "    * Bibliotecas como `scipy.signal` e `control` possuem funções para realizar essas conversões (`tf2ss`, `ss2tf`)."
   ]
  },
  {
   "cell_type": "code",
   "execution_count": null,
   "metadata": {
    "slideshow": {
     "slide_type": "fragment"
    }
   },
   "outputs": [],
   "source": [
    "# Exemplo Opcional: Converter TF para SS e vice-versa\n",
    "# from scipy.signal import TransferFunction, tf2ss, ss2tf\n",
    "\n",
    "# # H(s) do Massa-Mola-Amortecedor (m=1, c=0.5, k=1)\n",
    "# num_tf = [1]\n",
    "# den_tf = [1, 0.5, 1]\n",
    "# H = TransferFunction(num_tf, den_tf)\n",
    "# print(f\"H(s) original:\\n{H}\")\n",
    "\n",
    "# # Converter para Espaço de Estados (Forma Canônica Controlável por padrão)\n",
    "# A, B, C, D = tf2ss(num_tf, den_tf)\n",
    "# print(\"\\nModelo de Espaço de Estados (tf2ss):\")\n",
    "# print(f\"A =\\n{A}\")\n",
    "# print(f\"B =\\n{B}\")\n",
    "# print(f\"C =\\n{C}\")\n",
    "# print(f\"D =\\n{D}\")\n",
    "\n",
    "# # Converter de volta para Função de Transferência\n",
    "# num_ss, den_ss = ss2tf(A, B, C, D)\n",
    "# H_rec = TransferFunction(num_ss, den_ss)\n",
    "# print(f\"\\nH(s) recuperada (ss2tf):\\n{H_rec}\")"
   ]
  },
  {
   "cell_type": "markdown",
   "metadata": {
    "slideshow": {
     "slide_type": "slide"
    }
   },
   "source": [
    "## Resumo das Representações\n",
    "\n",
    "| Representação              | Domínio      | Vantagens                                                                 | Desvantagens                                          |\n",
    "|----------------------------|--------------|---------------------------------------------------------------------------|-------------------------------------------------------|\n",
    "| **Equação Diferencial** | Tempo        | Descrição física fundamental, intuitiva.                                  | Difícil de resolver analiticamente para ordens altas. |\n",
    "| **Resposta ao Impulso** | Tempo        | Caracterização completa (LTI), base para convolução.                     | Pode ser difícil de obter/usar diretamente.          |\n",
    "| **Função de Transferência**| Laplace (`s`) | Equações algébricas, análise de estabilidade (polos), freq. response.    | Requer C.I. nulas, primariamente para SISO LTI.      |\n",
    "| **Espaço de Estados** | Tempo        | Poderosa para MIMO, C.I. não nulas, estados internos, controle moderno. | Menos intuitiva inicialmente, escolha de estados.   |"
   ]
  },
  {
   "cell_type": "markdown",
   "metadata": {
    "slideshow": {
     "slide_type": "slide"
    }
   },
   "source": [
    "## Perguntas?"
   ]
  }
 ],
 "metadata": {
  "kernelspec": {
   "display_name": "Python 3 (ipykernel)",
   "language": "python",
   "name": "python3"
  },
  "language_info": {
   "codemirror_mode": {
    "name": "ipython",
    "version": 3
   },
   "file_extension": ".py",
   "mimetype": "text/x-python",
   "name": "python",
   "nbconvert_exporter": "python",
   "pygments_lexer": "ipython3",
   "version": "3.9.7"
  }
 },
 "nbformat": 4,
 "nbformat_minor": 4
}
